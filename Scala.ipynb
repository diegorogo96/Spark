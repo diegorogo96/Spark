{
 "cells": [
  {
   "cell_type": "code",
   "execution_count": 1,
   "metadata": {},
   "outputs": [
    {
     "data": {
      "text/plain": [
       "Intitializing Scala interpreter ..."
      ]
     },
     "metadata": {},
     "output_type": "display_data"
    },
    {
     "data": {
      "text/plain": [
       "Spark Web UI available at http://EM2021002738.bosonit.local:4040\n",
       "SparkContext available as 'sc' (version = 3.1.1, master = local[*], app id = local-1620372186578)\n",
       "SparkSession available as 'spark'\n"
      ]
     },
     "metadata": {},
     "output_type": "display_data"
    },
    {
     "data": {
      "text/plain": [
       "quijote: org.apache.spark.sql.DataFrame = [value: string]\r\n"
      ]
     },
     "execution_count": 1,
     "metadata": {},
     "output_type": "execute_result"
    }
   ],
   "source": [
    "val quijote = spark.read.text(\"./LearningSparkV2-master/el_quijote.txt\")"
   ]
  },
  {
   "cell_type": "code",
   "execution_count": 2,
   "metadata": {},
   "outputs": [
    {
     "data": {
      "text/plain": [
       "res0: Long = 2186\r\n"
      ]
     },
     "execution_count": 2,
     "metadata": {},
     "output_type": "execute_result"
    }
   ],
   "source": [
    "quijote.count"
   ]
  },
  {
   "cell_type": "code",
   "execution_count": 3,
   "metadata": {},
   "outputs": [
    {
     "name": "stdout",
     "output_type": "stream",
     "text": [
      "+--------------------+\n",
      "|               value|\n",
      "+--------------------+\n",
      "|DON QUIJOTE DE LA...|\n",
      "|Miguel de Cervant...|\n",
      "|                    |\n",
      "|       PRIMERA PARTE|\n",
      "|CAPI?TULO 1: Que ...|\n",
      "|En un lugar de la...|\n",
      "|Tuvo muchas veces...|\n",
      "|En resolucio?n, e...|\n",
      "|historia ma?s cie...|\n",
      "|Deci?a e?l, que e...|\n",
      "|En efecto, remata...|\n",
      "|Imagina?base el p...|\n",
      "|linaje y patria, ...|\n",
      "|Limpias, pues, su...|\n",
      "|Capi?tulo 2: Que ...|\n",
      "|Hechas, pues, est...|\n",
      "|Estos pensamiento...|\n",
      "|Con estos iba ens...|\n",
      "|Autores hay que d...|\n",
      "|muertos de hambre...|\n",
      "+--------------------+\n",
      "only showing top 20 rows\n",
      "\r\n"
     ]
    }
   ],
   "source": [
    "quijote.show()"
   ]
  },
  {
   "cell_type": "code",
   "execution_count": 4,
   "metadata": {},
   "outputs": [
    {
     "data": {
      "text/plain": [
       "res2: Array[org.apache.spark.sql.Row] = Array([DON QUIJOTE DE LA MANCHA], [Miguel de Cervantes Saavedra], [], [PRIMERA PARTE], [CAPI?TULO 1: Que trata de la condicio?n y ejercicio del famoso hidalgo D. Quijote de la Mancha])\r\n"
      ]
     },
     "execution_count": 4,
     "metadata": {},
     "output_type": "execute_result"
    }
   ],
   "source": [
    "quijote.head(5)"
   ]
  },
  {
   "cell_type": "code",
   "execution_count": 5,
   "metadata": {},
   "outputs": [
    {
     "data": {
      "text/plain": [
       "res3: Array[org.apache.spark.sql.Row] = Array([DON QUIJOTE DE LA MANCHA], [Miguel de Cervantes Saavedra], [], [PRIMERA PARTE], [CAPI?TULO 1: Que trata de la condicio?n y ejercicio del famoso hidalgo D. Quijote de la Mancha])\r\n"
      ]
     },
     "execution_count": 5,
     "metadata": {},
     "output_type": "execute_result"
    }
   ],
   "source": [
    "quijote.take(5)"
   ]
  },
  {
   "cell_type": "code",
   "execution_count": 6,
   "metadata": {
    "scrolled": true
   },
   "outputs": [
    {
     "data": {
      "text/plain": [
       "res4: org.apache.spark.sql.Row = [DON QUIJOTE DE LA MANCHA]\r\n"
      ]
     },
     "execution_count": 6,
     "metadata": {},
     "output_type": "execute_result"
    }
   ],
   "source": [
    "quijote.first()"
   ]
  },
  {
   "cell_type": "code",
   "execution_count": 7,
   "metadata": {},
   "outputs": [
    {
     "name": "stdout",
     "output_type": "stream",
     "text": [
      "+-----+------+-----+\n",
      "|State| Color|Count|\n",
      "+-----+------+-----+\n",
      "|   TX|   Red|   20|\n",
      "|   NV|  Blue|   66|\n",
      "|   CO|  Blue|   79|\n",
      "|   OR|  Blue|   71|\n",
      "|   WA|Yellow|   93|\n",
      "+-----+------+-----+\n",
      "only showing top 5 rows\n",
      "\r\n"
     ]
    },
    {
     "data": {
      "text/plain": [
       "import org.apache.spark.sql.SparkSession\r\n",
       "spark: org.apache.spark.sql.SparkSession = org.apache.spark.sql.SparkSession@3ccdc730\r\n",
       "mnmDF: org.apache.spark.sql.DataFrame = [State: string, Color: string ... 1 more field]\r\n"
      ]
     },
     "execution_count": 7,
     "metadata": {},
     "output_type": "execute_result"
    }
   ],
   "source": [
    "import org.apache.spark.sql.SparkSession\n",
    "val spark = SparkSession\n",
    "      .builder\n",
    "      .appName(\"MnMCount\")\n",
    "      .getOrCreate()\n",
    "\n",
    "\n",
    "val mnmDF = spark.read.format(\"csv\")\n",
    "    .option(\"header\", \"true\")\n",
    "    .option(\"inferSchema\", \"true\")\n",
    "    .load(\"./LearningSparkV2-master/chapter2/scala/data/mnm_dataset.csv\")\n",
    "\n",
    "mnmDF.show(5)\n",
    "\n"
   ]
  },
  {
   "cell_type": "code",
   "execution_count": 13,
   "metadata": {},
   "outputs": [
    {
     "data": {
      "text/plain": [
       "countMnMDF: org.apache.spark.sql.Dataset[org.apache.spark.sql.Row] = [State: string, Color: string ... 1 more field]\r\n"
      ]
     },
     "execution_count": 13,
     "metadata": {},
     "output_type": "execute_result"
    }
   ],
   "source": [
    "val countMnMDF = mnmDF.select(\"State\", \"Color\", \"Count\")\n",
    "    .groupBy(\"State\", \"Color\")\n",
    "    .sum(\"Count\")\n",
    "    .orderBy(desc(\"sum(Count)\"))\n",
    "    "
   ]
  },
  {
   "cell_type": "code",
   "execution_count": 15,
   "metadata": {},
   "outputs": [
    {
     "name": "stdout",
     "output_type": "stream",
     "text": [
      "+-----+------+----------+\n",
      "|State| Color|sum(Count)|\n",
      "+-----+------+----------+\n",
      "|   CA|Yellow|    100956|\n",
      "|   WA| Green|     96486|\n",
      "|   CA| Brown|     95762|\n",
      "|   TX| Green|     95753|\n",
      "|   TX|   Red|     95404|\n",
      "|   CO|Yellow|     95038|\n",
      "|   NM|   Red|     94699|\n",
      "|   OR|Orange|     94514|\n",
      "|   WY| Green|     94339|\n",
      "|   NV|Orange|     93929|\n",
      "|   TX|Yellow|     93819|\n",
      "|   CO| Green|     93724|\n",
      "|   CO| Brown|     93692|\n",
      "|   CA| Green|     93505|\n",
      "|   NM| Brown|     93447|\n",
      "|   CO|  Blue|     93412|\n",
      "|   WA|   Red|     93332|\n",
      "|   WA| Brown|     93082|\n",
      "|   WA|Yellow|     92920|\n",
      "|   NM|Yellow|     92747|\n",
      "|   NV| Brown|     92478|\n",
      "|   TX|Orange|     92315|\n",
      "|   AZ| Brown|     92287|\n",
      "|   AZ| Green|     91882|\n",
      "|   WY|   Red|     91768|\n",
      "|   AZ|Orange|     91684|\n",
      "|   CA|   Red|     91527|\n",
      "|   WA|Orange|     91521|\n",
      "|   NV|Yellow|     91390|\n",
      "|   UT|Orange|     91341|\n",
      "|   NV| Green|     91331|\n",
      "|   NM|Orange|     91251|\n",
      "|   NM| Green|     91160|\n",
      "|   WY|  Blue|     91002|\n",
      "|   UT|   Red|     90995|\n",
      "|   CO|Orange|     90971|\n",
      "|   AZ|Yellow|     90946|\n",
      "|   TX| Brown|     90736|\n",
      "|   OR|  Blue|     90526|\n",
      "|   CA|Orange|     90311|\n",
      "|   OR|   Red|     90286|\n",
      "|   NM|  Blue|     90150|\n",
      "|   AZ|   Red|     90042|\n",
      "|   NV|  Blue|     90003|\n",
      "|   UT|  Blue|     89977|\n",
      "|   AZ|  Blue|     89971|\n",
      "|   WA|  Blue|     89886|\n",
      "|   OR| Green|     89578|\n",
      "|   CO|   Red|     89465|\n",
      "|   NV|   Red|     89346|\n",
      "|   UT|Yellow|     89264|\n",
      "|   OR| Brown|     89136|\n",
      "|   CA|  Blue|     89123|\n",
      "|   UT| Brown|     88973|\n",
      "|   TX|  Blue|     88466|\n",
      "|   UT| Green|     88392|\n",
      "|   OR|Yellow|     88129|\n",
      "|   WY|Orange|     87956|\n",
      "|   WY|Yellow|     87800|\n",
      "|   WY| Brown|     86110|\n",
      "+-----+------+----------+\n",
      "\n",
      "Total Rows = 60\n",
      "\n"
     ]
    }
   ],
   "source": [
    "countMnMDF.show(60)\n",
    "\n",
    "println(s\"Total Rows = ${countMnMDF.count()}\")\n",
    "println()"
   ]
  },
  {
   "cell_type": "code",
   "execution_count": null,
   "metadata": {},
   "outputs": [],
   "source": []
  }
 ],
 "metadata": {
  "kernelspec": {
   "display_name": "spylon-kernel",
   "language": "scala",
   "name": "spylon-kernel"
  },
  "language_info": {
   "codemirror_mode": "text/x-scala",
   "file_extension": ".scala",
   "help_links": [
    {
     "text": "MetaKernel Magics",
     "url": "https://metakernel.readthedocs.io/en/latest/source/README.html"
    }
   ],
   "mimetype": "text/x-scala",
   "name": "scala",
   "pygments_lexer": "scala",
   "version": "0.4.1"
  }
 },
 "nbformat": 4,
 "nbformat_minor": 4
}
