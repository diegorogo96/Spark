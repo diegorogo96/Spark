{
 "cells": [
  {
   "cell_type": "code",
   "execution_count": 1,
   "metadata": {},
   "outputs": [
    {
     "data": {
      "text/plain": [
       "Intitializing Scala interpreter ..."
      ]
     },
     "metadata": {},
     "output_type": "display_data"
    },
    {
     "data": {
      "text/plain": [
       "Spark Web UI available at http://EM2021002738.bosonit.local:4041\n",
       "SparkContext available as 'sc' (version = 3.1.1, master = local[*], app id = local-1618473955899)\n",
       "SparkSession available as 'spark'\n"
      ]
     },
     "metadata": {},
     "output_type": "display_data"
    },
    {
     "name": "stdout",
     "output_type": "stream",
     "text": [
      "+-----+------+-----+\n",
      "|State| Color|Count|\n",
      "+-----+------+-----+\n",
      "|   TX|   Red|   20|\n",
      "|   NV|  Blue|   66|\n",
      "|   CO|  Blue|   79|\n",
      "|   OR|  Blue|   71|\n",
      "|   WA|Yellow|   93|\n",
      "+-----+------+-----+\n",
      "only showing top 5 rows\n",
      "\r\n"
     ]
    },
    {
     "data": {
      "text/plain": [
       "import org.apache.spark.sql.SparkSession\r\n",
       "spark: org.apache.spark.sql.SparkSession = org.apache.spark.sql.SparkSession@7a1e9198\r\n",
       "mnmDF: org.apache.spark.sql.DataFrame = [State: string, Color: string ... 1 more field]\r\n"
      ]
     },
     "execution_count": 1,
     "metadata": {},
     "output_type": "execute_result"
    }
   ],
   "source": [
    "import org.apache.spark.sql.SparkSession\n",
    "val spark = SparkSession\n",
    "      .builder\n",
    "      .appName(\"MnMCount\")\n",
    "      .getOrCreate()\n",
    "\n",
    "\n",
    "val mnmDF = spark.read.format(\"csv\")\n",
    "    .option(\"header\", \"true\")\n",
    "    .option(\"inferSchema\", \"true\")\n",
    "    .load(\"./LearningSparkV2-master/chapter2/scala/data/mnm_dataset.csv\")\n",
    "\n",
    "mnmDF.show(5)"
   ]
  },
  {
   "cell_type": "code",
   "execution_count": 2,
   "metadata": {},
   "outputs": [
    {
     "data": {
      "text/plain": [
       "countMnMDF: org.apache.spark.sql.Dataset[org.apache.spark.sql.Row] = [State: string, Color: string ... 1 more field]\r\n"
      ]
     },
     "execution_count": 2,
     "metadata": {},
     "output_type": "execute_result"
    }
   ],
   "source": [
    "val countMnMDF = mnmDF.select(\"State\", \"Color\", \"Count\")\n",
    "    .groupBy(\"State\", \"Color\")\n",
    "    .sum(\"Count\")\n",
    "    .orderBy(desc(\"sum(Count)\"))\n"
   ]
  },
  {
   "cell_type": "code",
   "execution_count": 3,
   "metadata": {},
   "outputs": [
    {
     "name": "stdout",
     "output_type": "stream",
     "text": [
      "+-----+------+----------+\n",
      "|State| Color|sum(Count)|\n",
      "+-----+------+----------+\n",
      "|   CA|Yellow|    100956|\n",
      "|   WA| Green|     96486|\n",
      "|   CA| Brown|     95762|\n",
      "|   TX| Green|     95753|\n",
      "|   TX|   Red|     95404|\n",
      "|   CO|Yellow|     95038|\n",
      "|   NM|   Red|     94699|\n",
      "|   OR|Orange|     94514|\n",
      "|   WY| Green|     94339|\n",
      "|   NV|Orange|     93929|\n",
      "|   TX|Yellow|     93819|\n",
      "|   CO| Green|     93724|\n",
      "|   CO| Brown|     93692|\n",
      "|   CA| Green|     93505|\n",
      "|   NM| Brown|     93447|\n",
      "|   CO|  Blue|     93412|\n",
      "|   WA|   Red|     93332|\n",
      "|   WA| Brown|     93082|\n",
      "|   WA|Yellow|     92920|\n",
      "|   NM|Yellow|     92747|\n",
      "|   NV| Brown|     92478|\n",
      "|   TX|Orange|     92315|\n",
      "|   AZ| Brown|     92287|\n",
      "|   AZ| Green|     91882|\n",
      "|   WY|   Red|     91768|\n",
      "|   AZ|Orange|     91684|\n",
      "|   CA|   Red|     91527|\n",
      "|   WA|Orange|     91521|\n",
      "|   NV|Yellow|     91390|\n",
      "|   UT|Orange|     91341|\n",
      "|   NV| Green|     91331|\n",
      "|   NM|Orange|     91251|\n",
      "|   NM| Green|     91160|\n",
      "|   WY|  Blue|     91002|\n",
      "|   UT|   Red|     90995|\n",
      "|   CO|Orange|     90971|\n",
      "|   AZ|Yellow|     90946|\n",
      "|   TX| Brown|     90736|\n",
      "|   OR|  Blue|     90526|\n",
      "|   CA|Orange|     90311|\n",
      "|   OR|   Red|     90286|\n",
      "|   NM|  Blue|     90150|\n",
      "|   AZ|   Red|     90042|\n",
      "|   NV|  Blue|     90003|\n",
      "|   UT|  Blue|     89977|\n",
      "|   AZ|  Blue|     89971|\n",
      "|   WA|  Blue|     89886|\n",
      "|   OR| Green|     89578|\n",
      "|   CO|   Red|     89465|\n",
      "|   NV|   Red|     89346|\n",
      "|   UT|Yellow|     89264|\n",
      "|   OR| Brown|     89136|\n",
      "|   CA|  Blue|     89123|\n",
      "|   UT| Brown|     88973|\n",
      "|   TX|  Blue|     88466|\n",
      "|   UT| Green|     88392|\n",
      "|   OR|Yellow|     88129|\n",
      "|   WY|Orange|     87956|\n",
      "|   WY|Yellow|     87800|\n",
      "|   WY| Brown|     86110|\n",
      "+-----+------+----------+\n",
      "\n",
      "Total Rows = 60\n",
      "\n"
     ]
    }
   ],
   "source": [
    "countMnMDF.show(60)\n",
    "println(s\"Total Rows = ${countMnMDF.count()}\")\n",
    "println()"
   ]
  },
  {
   "cell_type": "code",
   "execution_count": 12,
   "metadata": {},
   "outputs": [
    {
     "data": {
      "text/plain": [
       "countMnMDF: org.apache.spark.sql.Dataset[org.apache.spark.sql.Row] = [State: string, Color: string ... 1 more field]\r\n"
      ]
     },
     "execution_count": 12,
     "metadata": {},
     "output_type": "execute_result"
    }
   ],
   "source": [
    "val countMnMDF = mnmDF.select(\"State\", \"Color\", \"Count\")\n",
    "    .groupBy(\"State\", \"Color\")\n",
    "    .avg(\"Count\")\n",
    "    .orderBy(asc(\"avg(Count)\"))"
   ]
  },
  {
   "cell_type": "code",
   "execution_count": 13,
   "metadata": {},
   "outputs": [
    {
     "name": "stdout",
     "output_type": "stream",
     "text": [
      "+-----+------+------------------+\n",
      "|State| Color|        avg(Count)|\n",
      "+-----+------+------------------+\n",
      "|   NV| Green| 53.78739693757362|\n",
      "|   NV|  Blue|53.797369994022716|\n",
      "|   WY|Yellow|53.997539975399754|\n",
      "|   UT|   Red|54.163690476190474|\n",
      "|   NM| Green|  54.1973840665874|\n",
      "|   OR|Orange| 54.22489959839358|\n",
      "|   WA| Green| 54.23608768971332|\n",
      "|   UT|Orange| 54.24049881235155|\n",
      "|   UT|Yellow|54.263829787234044|\n",
      "|   CA| Green|54.268717353453276|\n",
      "|   AZ|Orange| 54.28300769686205|\n",
      "|   AZ| Brown|54.350412249705535|\n",
      "|   UT|  Blue|54.366767371601206|\n",
      "|   CA|Orange|54.502715751357876|\n",
      "|   UT| Brown| 54.55119558553035|\n",
      "|   NV|Yellow|54.561194029850746|\n",
      "|   OR|Yellow| 54.60285006195787|\n",
      "|   AZ|   Red|54.637135922330096|\n",
      "|   WY|  Blue| 54.68870192307692|\n",
      "|   CO| Green| 54.71336835960304|\n",
      "|   NM|Orange|  54.8054054054054|\n",
      "|   TX|  Blue|54.811648079306075|\n",
      "|   OR| Green|54.821297429620564|\n",
      "|   AZ| Green| 54.82219570405728|\n",
      "|   NV|Orange|54.865070093457945|\n",
      "|   OR|   Red| 54.88510638297873|\n",
      "|   NM|Yellow| 54.94490521327014|\n",
      "|   WY|   Red|54.950898203592814|\n",
      "|   AZ|Yellow| 54.98548972188634|\n",
      "|   OR| Brown| 54.98827884022209|\n",
      "|   AZ|  Blue| 54.99449877750611|\n",
      "|   OR|  Blue| 54.99756986634265|\n",
      "|   NM|  Blue| 55.03663003663004|\n",
      "|   CO|   Red|55.089285714285715|\n",
      "|   TX|Yellow| 55.09042865531415|\n",
      "|   CO|  Blue| 55.11032448377581|\n",
      "|   TX| Green| 55.12550374208405|\n",
      "|   WY|Orange|55.144827586206894|\n",
      "|   WA|Orange|55.199638118214715|\n",
      "|   CO|Yellow| 55.22254503195816|\n",
      "|   CA|   Red| 55.26992753623188|\n",
      "|   TX| Brown| 55.29311395490554|\n",
      "|   TX|   Red|55.306666666666665|\n",
      "|   WA|  Blue|55.314461538461536|\n",
      "|   NM| Brown|55.392412566686424|\n",
      "|   CO|Orange|55.402557856272836|\n",
      "|   NV|   Red|  55.4944099378882|\n",
      "|   UT| Green|55.557510999371466|\n",
      "|   CA|  Blue| 55.59762944479102|\n",
      "|   WY| Green|55.657227138643066|\n",
      "|   CA| Brown|55.740395809080326|\n",
      "|   WA| Brown| 55.77112043139604|\n",
      "|   NV| Brown| 55.81050090525045|\n",
      "|   WA|   Red| 55.85397965290245|\n",
      "|   CA|Yellow|  55.8693967902601|\n",
      "|   WA|Yellow|  55.8749248346362|\n",
      "|   TX|Orange|55.880750605326874|\n",
      "|   NM|   Red| 56.03491124260355|\n",
      "|   WY| Brown| 56.20757180156658|\n",
      "|   CO| Brown| 56.57729468599034|\n",
      "+-----+------+------------------+\n",
      "\n",
      "Total Rows = 60\n",
      "\n"
     ]
    }
   ],
   "source": [
    "countMnMDF.show(60)\n",
    "println(s\"Total Rows = ${countMnMDF.count()}\")\n",
    "println()"
   ]
  },
  {
   "cell_type": "code",
   "execution_count": 21,
   "metadata": {},
   "outputs": [
    {
     "data": {
      "text/plain": [
       "countMnMDF: org.apache.spark.sql.Dataset[org.apache.spark.sql.Row] = [State: string, Color: string ... 1 more field]\r\n"
      ]
     },
     "execution_count": 21,
     "metadata": {},
     "output_type": "execute_result"
    }
   ],
   "source": [
    "val countMnMDF = mnmDF.select(\"State\", \"Color\", \"Count\")\n",
    "    .where(col(\"State\") === \"CA\" || col(\"State\") === \"TX\")\n",
    "    .groupBy(\"State\", \"Color\")\n",
    "    .sum(\"Count\")\n",
    "    .orderBy(desc(\"sum(Count)\"))"
   ]
  },
  {
   "cell_type": "code",
   "execution_count": 22,
   "metadata": {},
   "outputs": [
    {
     "name": "stdout",
     "output_type": "stream",
     "text": [
      "+-----+------+----------+\n",
      "|State| Color|sum(Count)|\n",
      "+-----+------+----------+\n",
      "|   CA|Yellow|    100956|\n",
      "|   CA| Brown|     95762|\n",
      "|   TX| Green|     95753|\n",
      "|   TX|   Red|     95404|\n",
      "|   TX|Yellow|     93819|\n",
      "|   CA| Green|     93505|\n",
      "|   TX|Orange|     92315|\n",
      "|   CA|   Red|     91527|\n",
      "|   TX| Brown|     90736|\n",
      "|   CA|Orange|     90311|\n",
      "|   CA|  Blue|     89123|\n",
      "|   TX|  Blue|     88466|\n",
      "+-----+------+----------+\n",
      "\n",
      "Total Rows = 12\n",
      "\n"
     ]
    }
   ],
   "source": [
    "countMnMDF.show(60)\n",
    "println(s\"Total Rows = ${countMnMDF.count()}\")\n",
    "println()"
   ]
  },
  {
   "cell_type": "code",
   "execution_count": 25,
   "metadata": {},
   "outputs": [
    {
     "data": {
      "text/plain": [
       "countMnMDF: org.apache.spark.sql.Dataset[org.apache.spark.sql.Row] = [State: string, Color: string ... 4 more fields]\r\n"
      ]
     },
     "execution_count": 25,
     "metadata": {},
     "output_type": "execute_result"
    }
   ],
   "source": [
    "val countMnMDF = mnmDF.select(\"State\", \"Color\", \"Count\", \"Count\", \"Count\", \"Count\")\n",
    "    .groupBy(\"State\", \"Color\")\n",
    "    .agg(max($\"Count\"), min($\"Count\"), avg($\"Count\"), sum($\"Count\"))\n",
    "    .orderBy(desc(\"sum(Count)\"))"
   ]
  },
  {
   "cell_type": "code",
   "execution_count": 26,
   "metadata": {},
   "outputs": [
    {
     "name": "stdout",
     "output_type": "stream",
     "text": [
      "+-----+------+----------+----------+------------------+----------+\n",
      "|State| Color|max(Count)|min(Count)|        avg(Count)|sum(Count)|\n",
      "+-----+------+----------+----------+------------------+----------+\n",
      "|   CA|Yellow|       100|        10|  55.8693967902601|    100956|\n",
      "|   WA| Green|       100|        10| 54.23608768971332|     96486|\n",
      "|   CA| Brown|       100|        10|55.740395809080326|     95762|\n",
      "|   TX| Green|       100|        10| 55.12550374208405|     95753|\n",
      "|   TX|   Red|       100|        10|55.306666666666665|     95404|\n",
      "|   CO|Yellow|       100|        10| 55.22254503195816|     95038|\n",
      "|   NM|   Red|       100|        10| 56.03491124260355|     94699|\n",
      "|   OR|Orange|       100|        10| 54.22489959839358|     94514|\n",
      "|   WY| Green|       100|        10|55.657227138643066|     94339|\n",
      "|   NV|Orange|       100|        10|54.865070093457945|     93929|\n",
      "|   TX|Yellow|       100|        10| 55.09042865531415|     93819|\n",
      "|   CO| Green|       100|        10| 54.71336835960304|     93724|\n",
      "|   CO| Brown|       100|        10| 56.57729468599034|     93692|\n",
      "|   CA| Green|       100|        10|54.268717353453276|     93505|\n",
      "|   NM| Brown|       100|        10|55.392412566686424|     93447|\n",
      "|   CO|  Blue|       100|        10| 55.11032448377581|     93412|\n",
      "|   WA|   Red|       100|        10| 55.85397965290245|     93332|\n",
      "|   WA| Brown|       100|        10| 55.77112043139604|     93082|\n",
      "|   WA|Yellow|       100|        10|  55.8749248346362|     92920|\n",
      "|   NM|Yellow|       100|        10| 54.94490521327014|     92747|\n",
      "|   NV| Brown|       100|        10| 55.81050090525045|     92478|\n",
      "|   TX|Orange|       100|        10|55.880750605326874|     92315|\n",
      "|   AZ| Brown|       100|        10|54.350412249705535|     92287|\n",
      "|   AZ| Green|       100|        10| 54.82219570405728|     91882|\n",
      "|   WY|   Red|       100|        10|54.950898203592814|     91768|\n",
      "|   AZ|Orange|       100|        10| 54.28300769686205|     91684|\n",
      "|   CA|   Red|       100|        10| 55.26992753623188|     91527|\n",
      "|   WA|Orange|       100|        10|55.199638118214715|     91521|\n",
      "|   NV|Yellow|       100|        10|54.561194029850746|     91390|\n",
      "|   UT|Orange|       100|        10| 54.24049881235155|     91341|\n",
      "|   NV| Green|       100|        10| 53.78739693757362|     91331|\n",
      "|   NM|Orange|       100|        10|  54.8054054054054|     91251|\n",
      "|   NM| Green|       100|        10|  54.1973840665874|     91160|\n",
      "|   WY|  Blue|       100|        10| 54.68870192307692|     91002|\n",
      "|   UT|   Red|       100|        10|54.163690476190474|     90995|\n",
      "|   CO|Orange|       100|        10|55.402557856272836|     90971|\n",
      "|   AZ|Yellow|       100|        10| 54.98548972188634|     90946|\n",
      "|   TX| Brown|       100|        10| 55.29311395490554|     90736|\n",
      "|   OR|  Blue|       100|        10| 54.99756986634265|     90526|\n",
      "|   CA|Orange|       100|        10|54.502715751357876|     90311|\n",
      "|   OR|   Red|       100|        10| 54.88510638297873|     90286|\n",
      "|   NM|  Blue|       100|        10| 55.03663003663004|     90150|\n",
      "|   AZ|   Red|       100|        10|54.637135922330096|     90042|\n",
      "|   NV|  Blue|       100|        10|53.797369994022716|     90003|\n",
      "|   UT|  Blue|       100|        10|54.366767371601206|     89977|\n",
      "|   AZ|  Blue|       100|        10| 54.99449877750611|     89971|\n",
      "|   WA|  Blue|       100|        10|55.314461538461536|     89886|\n",
      "|   OR| Green|       100|        10|54.821297429620564|     89578|\n",
      "|   CO|   Red|       100|        10|55.089285714285715|     89465|\n",
      "|   NV|   Red|       100|        10|  55.4944099378882|     89346|\n",
      "|   UT|Yellow|       100|        10|54.263829787234044|     89264|\n",
      "|   OR| Brown|       100|        10| 54.98827884022209|     89136|\n",
      "|   CA|  Blue|       100|        10| 55.59762944479102|     89123|\n",
      "|   UT| Brown|       100|        10| 54.55119558553035|     88973|\n",
      "|   TX|  Blue|       100|        10|54.811648079306075|     88466|\n",
      "|   UT| Green|       100|        10|55.557510999371466|     88392|\n",
      "|   OR|Yellow|       100|        10| 54.60285006195787|     88129|\n",
      "|   WY|Orange|       100|        10|55.144827586206894|     87956|\n",
      "|   WY|Yellow|       100|        10|53.997539975399754|     87800|\n",
      "|   WY| Brown|       100|        10| 56.20757180156658|     86110|\n",
      "+-----+------+----------+----------+------------------+----------+\n",
      "\n",
      "Total Rows = 60\n",
      "\n"
     ]
    }
   ],
   "source": [
    "countMnMDF.show(60)\n",
    "println(s\"Total Rows = ${countMnMDF.count()}\")\n",
    "println()"
   ]
  },
  {
   "cell_type": "code",
   "execution_count": 27,
   "metadata": {},
   "outputs": [
    {
     "data": {
      "text/plain": [
       "s: org.apache.spark.sql.DataFrame = [num: int]\r\n"
      ]
     },
     "execution_count": 27,
     "metadata": {},
     "output_type": "execute_result"
    }
   ],
   "source": [
    "val s = Seq(1,2,3).toDF(\"num\")\n"
   ]
  },
  {
   "cell_type": "code",
   "execution_count": 28,
   "metadata": {},
   "outputs": [],
   "source": [
    "s.createOrReplaceTempView(\"nums\")\n"
   ]
  },
  {
   "cell_type": "code",
   "execution_count": 29,
   "metadata": {},
   "outputs": [
    {
     "data": {
      "text/plain": [
       "res12: org.apache.spark.sql.DataFrame = [num: int]\r\n"
      ]
     },
     "execution_count": 29,
     "metadata": {},
     "output_type": "execute_result"
    }
   ],
   "source": [
    "spark.table(\"nums\")"
   ]
  },
  {
   "cell_type": "code",
   "execution_count": 30,
   "metadata": {},
   "outputs": [
    {
     "data": {
      "text/plain": [
       "res13: Long = 3\r\n"
      ]
     },
     "execution_count": 30,
     "metadata": {},
     "output_type": "execute_result"
    }
   ],
   "source": [
    "spark.table(\"nums\").count"
   ]
  },
  {
   "cell_type": "code",
   "execution_count": 31,
   "metadata": {},
   "outputs": [],
   "source": [
    "countMnMDF.createOrReplaceTempView(\"MnM\")"
   ]
  },
  {
   "cell_type": "code",
   "execution_count": 32,
   "metadata": {},
   "outputs": [
    {
     "data": {
      "text/plain": [
       "res15: org.apache.spark.sql.DataFrame = [State: string, Color: string ... 4 more fields]\r\n"
      ]
     },
     "execution_count": 32,
     "metadata": {},
     "output_type": "execute_result"
    }
   ],
   "source": [
    "spark.table(\"MnM\")"
   ]
  },
  {
   "cell_type": "code",
   "execution_count": 33,
   "metadata": {},
   "outputs": [
    {
     "data": {
      "text/plain": [
       "res16: Long = 60\r\n"
      ]
     },
     "execution_count": 33,
     "metadata": {},
     "output_type": "execute_result"
    }
   ],
   "source": [
    "spark.table(\"MnM\").count"
   ]
  },
  {
   "cell_type": "code",
   "execution_count": null,
   "metadata": {},
   "outputs": [],
   "source": []
  }
 ],
 "metadata": {
  "kernelspec": {
   "display_name": "spylon-kernel",
   "language": "scala",
   "name": "spylon-kernel"
  },
  "language_info": {
   "codemirror_mode": "text/x-scala",
   "file_extension": ".scala",
   "help_links": [
    {
     "text": "MetaKernel Magics",
     "url": "https://metakernel.readthedocs.io/en/latest/source/README.html"
    }
   ],
   "mimetype": "text/x-scala",
   "name": "scala",
   "pygments_lexer": "scala",
   "version": "0.4.1"
  }
 },
 "nbformat": 4,
 "nbformat_minor": 4
}
